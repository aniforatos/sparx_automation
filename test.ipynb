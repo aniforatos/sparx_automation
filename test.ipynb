{
 "cells": [
  {
   "cell_type": "code",
   "execution_count": 1,
   "metadata": {},
   "outputs": [],
   "source": [
    "from win32com import client\n",
    "from comtypes.client import CreateObject\n",
    "import win32com.client\n",
    "import pandas as pd\n",
    "from docx import Document\n",
    "from jinja2 import Environment, FileSystemLoader\n",
    "import xml.etree.ElementTree as ET"
   ]
  },
  {
   "cell_type": "code",
   "execution_count": 2,
   "metadata": {},
   "outputs": [
    {
     "data": {
      "text/plain": [
       "<COMObject <unknown>>"
      ]
     },
     "execution_count": 2,
     "metadata": {},
     "output_type": "execute_result"
    }
   ],
   "source": [
    "\n",
    "model_path = \"C:/Users/AngeloNiforatos/OneDrive - ResilienX Inc/Documents/Resilienx_Repos/model.qea\"\n",
    "# Create EA Repository object\n",
    "# ea_repository = win32com.client.Dispatch(\"EA.Repository\")\n",
    "eaApp = win32com.client.Dispatch(\"EA.App\")\n",
    "ea_repository = eaApp.Repository\n",
    "\n",
    "# Connect to a model (replace ModelPath with your actual model file path)\n",
    "# ea_repository.OpenFile(model_path)\n",
    "ea_repository"
   ]
  },
  {
   "cell_type": "code",
   "execution_count": 3,
   "metadata": {},
   "outputs": [
    {
     "name": "stdout",
     "output_type": "stream",
     "text": [
      "Diagram ID: 1199\n",
      "Name: Monitor Network Infrastructure\n"
     ]
    }
   ],
   "source": [
    "active_diagram = ea_repository.GetCurrentDiagram()\n",
    "diagram_id = active_diagram.DiagramID; name = active_diagram.name\n",
    "print(f\"Diagram ID: {diagram_id}\\nName: {name}\")"
   ]
  },
  {
   "cell_type": "code",
   "execution_count": 4,
   "metadata": {},
   "outputs": [],
   "source": [
    "# Function to execute SQL query and return a DataFrame\n",
    "def execute_sql_query(ea_repository, sql_query):\n",
    "\n",
    "    # Execute the SQL query\n",
    "    result_set = ea_repository.SQLQuery(sql_query)\n",
    "    print(result_set)\n",
    "    # Parse the XML data\n",
    "    root = ET.fromstring(result_set)\n",
    "    root = root.find(\"Dataset_0\").find(\"Data\")\n",
    "    # Extract column names from the first row\n",
    "    column_names = [element.tag for element in root[0]]\n",
    "\n",
    "    # Extract data from XML and create a list of dictionaries\n",
    "    data = [{element.tag: element.text for element in row} for row in root]\n",
    "\n",
    "    # Convert the list of dictionaries to a Pandas DataFrame\n",
    "    df = pd.DataFrame(data, columns=column_names)\n",
    "    return df\n",
    "\n",
    "# Function to generate a Word document using a Jinja2 template\n",
    "def generate_document(data, template_path, output_path):\n",
    "    env = Environment(loader=FileSystemLoader('.'))\n",
    "    template = env.get_template(template_path)\n",
    "\n",
    "    document = Document()\n",
    "    \n",
    "    for row in data.itertuples(index=False):\n",
    "        document.add_paragraph(template.render(row))\n",
    "\n",
    "    document.save(output_path)"
   ]
  },
  {
   "cell_type": "code",
   "execution_count": 11,
   "metadata": {},
   "outputs": [
    {
     "data": {
      "text/plain": [
       "\"SELECT\\n    t_diagram.Name AS DiagramName,\\n    t_object.Name AS ElementName,\\n    t_object.Note AS Comment,\\n\\tt_object.Object_Type as Type\\nFROM\\n    t_diagramobjects\\nJOIN\\n    t_diagram ON t_diagram.Diagram_ID = t_diagramobjects.Diagram_ID\\nJOIN\\n    t_object ON t_object.Object_ID = t_diagramobjects.Object_ID\\n\\nWHERE\\n\\t(t_object.Object_Type = 'Note' OR t_object.Stereotype = 'Note') AND\\n    t_diagram.Diagram_ID = 1199;\""
      ]
     },
     "execution_count": 11,
     "metadata": {},
     "output_type": "execute_result"
    }
   ],
   "source": [
    "sql_query = \"\"\"SELECT\n",
    "\tt_object.Name as RequirementName,\n",
    "\tREPLACE(REPLACE(t_object.Note, '<b>', ''), '</b>', '') AS CleanedNotes,\n",
    "\tt_diagram.Name as DiagramName\n",
    "FROM\n",
    "\tt_object\n",
    "JOIN\n",
    "\tt_diagramobjects ON t_diagramobjects.Object_ID = t_object.Object_ID\n",
    "JOIN\n",
    "\tt_diagram ON t_diagram.Diagram_ID = t_diagramobjects.Diagram_ID\n",
    "WHERE\n",
    "\tt_object.Object_Type = \"Requirement\" \n",
    "\t/* Specify the Diagram GUI ID */\n",
    "\tAND t_diagram.ea_guid = \"{555FAF93-3E41-4c95-B76D-43A809F83978}\";\"\"\"\n",
    "sql_query_comments = f\"\"\"SELECT\n",
    "    t_diagram.Name AS DiagramName,\n",
    "    t_object.Name AS ElementName,\n",
    "    t_object.Note AS Comment,\n",
    "\tt_object.Object_Type as Type\n",
    "FROM\n",
    "    t_diagramobjects\n",
    "JOIN\n",
    "    t_diagram ON t_diagram.Diagram_ID = t_diagramobjects.Diagram_ID\n",
    "JOIN\n",
    "    t_object ON t_object.Object_ID = t_diagramobjects.Object_ID\n",
    "\n",
    "WHERE\n",
    "\t(t_object.Object_Type = 'Note' OR t_object.Stereotype = 'Note') AND\n",
    "    t_diagram.Diagram_ID = {diagram_id};\"\"\"\n",
    "sql_query_comments"
   ]
  },
  {
   "cell_type": "code",
   "execution_count": 12,
   "metadata": {},
   "outputs": [
    {
     "name": "stdout",
     "output_type": "stream",
     "text": [
      "<?xml version=\"1.0\" encoding=\"UTF-16\" standalone=\"no\" ?>\n",
      "<EADATA version=\"1.0\" exporter=\"Enterprise Architect\"><Dataset_0><Data><Row><DiagramName>Monitor Network Infrastructure</DiagramName><ElementName xmlns:dt=\"urn:schemas-microsoft-com:datatypes\" dt:dt=\"bin.base64\"/><Comment>MS: Some simplifications recommended:&#xD;\n",
      "I believe FAA126 requires the system to trigger a network fault's mitigation when that component's preconfigured fault is annotated as a network monitoring kind of fault. &#xD;\n",
      "FAA126 can derive from IASMS400, and so can FAA127. Additionally, 126 should derive from 051. 127 should derive from 045.&#xD;\n",
      "You may consider a requirement deriving from all fault type requirements (current 045 and 051): The system shall generate a manual mitigation upon creating a Network Monitoring Fault.&#xD;\n",
      "This would address FAA126 and FAA127, but if you want to keep those broken out for the types of faults (and have the ability to specialize the functionality of each), keep as-is.&#xD;\n",
      "Specifying this way would decompose to the network monitoring function, which must determine whether an incoming fault (internal to FRAIHMWORK) is a network related fault, based on some metainformation, not just the fault code, but probably an extension like repairable faults. That being said, if we know these faults are network faults requiring manual mitigation, we should rely on the maintenance service which springs into action when repairable==true, and does a mitigation.&#xD;\n",
      "</Comment><Type>Note</Type></Row><Row><DiagramName>Monitor Network Infrastructure</DiagramName><ElementName xmlns:dt=\"urn:schemas-microsoft-com:datatypes\" dt:dt=\"bin.base64\"/><Comment>MS: This requirement should be a bit more precise. Is this saying that the monitor for network infrastructure, within the system, should have an interface, where information about the health of network components can be accessed?&#xD;\n",
      "&#xD;\n",
      "Reading the derived requirements from 123, it appears we are prescribing the implementation via the internal structure of the monitoring function. Instead, we can specify what the function itself needs to do. We don't want to prescribe an implementation in these requirements.</Comment><Type>Note</Type></Row><Row><DiagramName>Monitor Network Infrastructure</DiagramName><ElementName xmlns:dt=\"urn:schemas-microsoft-com:datatypes\" dt:dt=\"bin.base64\"/><Comment>BT: Question for Greg, do all components need to have liveliness monitoring? Is that something we can choose not to do in configuration (a switch may not have functionality to hit our API for liveliness)&#xD;\n",
      "MS: Components can lose liveliness by having failures that are not network related. They can lose liveliness by having failures that are, as well. Therefore, we should treat liveliness faults independently from the latency faults.&#xD;\n",
      "Of latency faults, I see two distinct types:&#xD;\n",
      "&lt;ol&gt;&#xD;\n",
      "\t&lt;li&gt;Latency violation where the round trip delay for an ICMP echo versus its reply is either too latent or never completed. (Ping method)&lt;/li&gt;&#xD;\n",
      "\t&lt;li&gt;Latency violation where the network is hunky dory, but the content for a time bound message is applicable for a time too latent as compared to the arrival time at the IASMS.&lt;/li&gt;&#xD;\n",
      "&lt;/ol&gt;&#xD;\n",
      "So we have two methods for measuring latency, one in terms of round trip ping, one in terms of Tofapplicability versus Tarrival. &#xD;\n",
      "I suggest we write the system requirements to prescribe both of these methods, shall for the ping method, should for the more difficult content method.&#xD;\n",
      "Additionally, a failed ping test (one where the ICMP echo/reply loop is never closed) is us checking loss of comms another way, instead of relying on liveliness. So, loss of comms could be a combination of liveliness testing and a NaN for the ping latency.</Comment><Type>Note</Type></Row><Row><DiagramName>Monitor Network Infrastructure</DiagramName><ElementName xmlns:dt=\"urn:schemas-microsoft-com:datatypes\" dt:dt=\"bin.base64\"/><Comment>BT: also derived from FAA122&#xD;\n",
      "AN: Agree!</Comment><Type>Note</Type></Row><Row><DiagramName>Monitor Network Infrastructure</DiagramName><ElementName xmlns:dt=\"urn:schemas-microsoft-com:datatypes\" dt:dt=\"bin.base64\"/><Comment>BT: Two of the same titles? Should we derive one for latency \"shall determine latency\" then two possible? unsure.&#xD;\n",
      "AN: Odd? I deleted this! Take two, deleting this and FAATBD053</Comment><Type>Note</Type></Row><Row><DiagramName>Monitor Network Infrastructure</DiagramName><ElementName xmlns:dt=\"urn:schemas-microsoft-com:datatypes\" dt:dt=\"bin.base64\"/><Comment>BT: It's not just ping latency, right? that's getting into implementation, i wonder if you just say \"determine latency based on as the round-trip time (RTT) in milliseconds, between two endpoints to assess the time taken for data packets to travel from the source to the destination and back.&#xD;\n",
      "AN: I believe our plan is to utilize Zabbix to get those ping statistics to determine how long it took a device to respond to ping.&#xD;\n",
      "MS: Brennan makes a good suggestion here. We don't have to be prescriptive of Zabbix, we can say what we want to do with zabbix in terms of functionality.&#xD;\n",
      "The system shall determine latency statistics based on the round trip delay between the network monitoring function to a specified remote network interface relating to the component that is monitored.</Comment><Type>Note</Type></Row><Row><DiagramName>Monitor Network Infrastructure</DiagramName><ElementName xmlns:dt=\"urn:schemas-microsoft-com:datatypes\" dt:dt=\"bin.base64\"/><Comment>BT: I see what you are trying to do here, but is there a simpler way of deriving the manual fault mitigation for an IASMS. Maybe just FAA041 is fine, keep it TBD, but with a note that has it being a prompt for a user to take a maintenance action?&#xD;\n",
      "AN: I added a note in the requirement that mentions a user prompt &#xD;\n",
      "</Comment><Type>Note</Type></Row><Row><DiagramName>Monitor Network Infrastructure</DiagramName><ElementName xmlns:dt=\"urn:schemas-microsoft-com:datatypes\" dt:dt=\"bin.base64\"/><Comment>BT: not sure we can do liveliness of network components (at least not all) but if we do, should the instances of the liveliness faults be added to this diagram? Specifically, the configuration and determination of the liveliness is missing&#xD;\n",
      "AN: I believe that is the point of FAA016. Zabbix should be able to get host availability which would indicate liveliness.</Comment><Type>Note</Type></Row></Data></Dataset_0></EADATA>\n"
     ]
    },
    {
     "data": {
      "text/html": [
       "<div>\n",
       "<style scoped>\n",
       "    .dataframe tbody tr th:only-of-type {\n",
       "        vertical-align: middle;\n",
       "    }\n",
       "\n",
       "    .dataframe tbody tr th {\n",
       "        vertical-align: top;\n",
       "    }\n",
       "\n",
       "    .dataframe thead th {\n",
       "        text-align: right;\n",
       "    }\n",
       "</style>\n",
       "<table border=\"1\" class=\"dataframe\">\n",
       "  <thead>\n",
       "    <tr style=\"text-align: right;\">\n",
       "      <th></th>\n",
       "      <th>DiagramName</th>\n",
       "      <th>ElementName</th>\n",
       "      <th>Comment</th>\n",
       "      <th>Type</th>\n",
       "    </tr>\n",
       "  </thead>\n",
       "  <tbody>\n",
       "    <tr>\n",
       "      <th>0</th>\n",
       "      <td>Monitor Network Infrastructure</td>\n",
       "      <td>None</td>\n",
       "      <td>MS: Some simplifications recommended:\\r\\nI bel...</td>\n",
       "      <td>Note</td>\n",
       "    </tr>\n",
       "    <tr>\n",
       "      <th>1</th>\n",
       "      <td>Monitor Network Infrastructure</td>\n",
       "      <td>None</td>\n",
       "      <td>MS: This requirement should be a bit more prec...</td>\n",
       "      <td>Note</td>\n",
       "    </tr>\n",
       "    <tr>\n",
       "      <th>2</th>\n",
       "      <td>Monitor Network Infrastructure</td>\n",
       "      <td>None</td>\n",
       "      <td>BT: Question for Greg, do all components need ...</td>\n",
       "      <td>Note</td>\n",
       "    </tr>\n",
       "    <tr>\n",
       "      <th>3</th>\n",
       "      <td>Monitor Network Infrastructure</td>\n",
       "      <td>None</td>\n",
       "      <td>BT: also derived from FAA122\\r\\nAN: Agree!</td>\n",
       "      <td>Note</td>\n",
       "    </tr>\n",
       "    <tr>\n",
       "      <th>4</th>\n",
       "      <td>Monitor Network Infrastructure</td>\n",
       "      <td>None</td>\n",
       "      <td>BT: Two of the same titles? Should we derive o...</td>\n",
       "      <td>Note</td>\n",
       "    </tr>\n",
       "    <tr>\n",
       "      <th>5</th>\n",
       "      <td>Monitor Network Infrastructure</td>\n",
       "      <td>None</td>\n",
       "      <td>BT: It's not just ping latency, right? that's ...</td>\n",
       "      <td>Note</td>\n",
       "    </tr>\n",
       "    <tr>\n",
       "      <th>6</th>\n",
       "      <td>Monitor Network Infrastructure</td>\n",
       "      <td>None</td>\n",
       "      <td>BT: I see what you are trying to do here, but ...</td>\n",
       "      <td>Note</td>\n",
       "    </tr>\n",
       "    <tr>\n",
       "      <th>7</th>\n",
       "      <td>Monitor Network Infrastructure</td>\n",
       "      <td>None</td>\n",
       "      <td>BT: not sure we can do liveliness of network c...</td>\n",
       "      <td>Note</td>\n",
       "    </tr>\n",
       "  </tbody>\n",
       "</table>\n",
       "</div>"
      ],
      "text/plain": [
       "                      DiagramName ElementName  \\\n",
       "0  Monitor Network Infrastructure        None   \n",
       "1  Monitor Network Infrastructure        None   \n",
       "2  Monitor Network Infrastructure        None   \n",
       "3  Monitor Network Infrastructure        None   \n",
       "4  Monitor Network Infrastructure        None   \n",
       "5  Monitor Network Infrastructure        None   \n",
       "6  Monitor Network Infrastructure        None   \n",
       "7  Monitor Network Infrastructure        None   \n",
       "\n",
       "                                             Comment  Type  \n",
       "0  MS: Some simplifications recommended:\\r\\nI bel...  Note  \n",
       "1  MS: This requirement should be a bit more prec...  Note  \n",
       "2  BT: Question for Greg, do all components need ...  Note  \n",
       "3         BT: also derived from FAA122\\r\\nAN: Agree!  Note  \n",
       "4  BT: Two of the same titles? Should we derive o...  Note  \n",
       "5  BT: It's not just ping latency, right? that's ...  Note  \n",
       "6  BT: I see what you are trying to do here, but ...  Note  \n",
       "7  BT: not sure we can do liveliness of network c...  Note  "
      ]
     },
     "execution_count": 12,
     "metadata": {},
     "output_type": "execute_result"
    }
   ],
   "source": [
    "df = execute_sql_query(ea_repository, sql_query_comments)\n",
    "df"
   ]
  },
  {
   "cell_type": "code",
   "execution_count": 20,
   "metadata": {},
   "outputs": [],
   "source": [
    "# Replace 'output_file.txt' with your desired output file path\n",
    "output_file_path = 'output_file.html'\n",
    "\n",
    "# Extract the contents of the 'FormattedTextColumn'\n",
    "formatted_text_contents = df['Comment'].tolist()\n",
    "\n",
    "# Write the contents to a rich-text HTML file\n",
    "with open(output_file_path, 'w', encoding='utf-8') as html_file:\n",
    "    # Write the HTML header\n",
    "    html_file.write('<html>\\n<head></head>\\n<body>\\n')\n",
    "\n",
    "    # Write each formatted text content\n",
    "    for content in formatted_text_contents:\n",
    "        html_file.write(f'{content}<br><br>')\n",
    "\n",
    "    # Write the HTML footer\n",
    "    html_file.write('</body>\\n</html>')"
   ]
  },
  {
   "cell_type": "code",
   "execution_count": null,
   "metadata": {},
   "outputs": [],
   "source": []
  }
 ],
 "metadata": {
  "kernelspec": {
   "display_name": "Python 3",
   "language": "python",
   "name": "python3"
  },
  "language_info": {
   "codemirror_mode": {
    "name": "ipython",
    "version": 3
   },
   "file_extension": ".py",
   "mimetype": "text/x-python",
   "name": "python",
   "nbconvert_exporter": "python",
   "pygments_lexer": "ipython3",
   "version": "3.9.13"
  }
 },
 "nbformat": 4,
 "nbformat_minor": 2
}
